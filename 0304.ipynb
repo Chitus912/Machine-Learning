{
 "cells": [
  {
   "cell_type": "code",
   "execution_count": 1,
   "id": "527dbaba-04a7-4974-9595-9857225e492c",
   "metadata": {},
   "outputs": [],
   "source": [
    "import scipy.stats as st\n",
    "import numpy as np"
   ]
  },
  {
   "cell_type": "code",
   "execution_count": 3,
   "id": "6292ea18-04f6-417a-bb49-8f55cdfc6257",
   "metadata": {},
   "outputs": [],
   "source": [
    "mu = 0\n",
    "sigma = 1"
   ]
  },
  {
   "cell_type": "code",
   "execution_count": 5,
   "id": "8c85b263-1e25-4699-a59e-41f66cc41e34",
   "metadata": {},
   "outputs": [
    {
     "data": {
      "text/plain": [
       "1.6448536269514722"
      ]
     },
     "execution_count": 5,
     "metadata": {},
     "output_type": "execute_result"
    }
   ],
   "source": [
    "alpha = 0.95\n",
    "st.norm.ppf(alpha, loc = mu , scale = sigma)"
   ]
  },
  {
   "cell_type": "code",
   "execution_count": 7,
   "id": "a3ccad41-83b2-46e1-846e-af1f1938c5b6",
   "metadata": {},
   "outputs": [
    {
     "data": {
      "text/plain": [
       "1.959963984540054"
      ]
     },
     "execution_count": 7,
     "metadata": {},
     "output_type": "execute_result"
    }
   ],
   "source": [
    "alpha = 0.975\n",
    "st.norm.ppf(alpha, loc = mu , scale = sigma)"
   ]
  },
  {
   "cell_type": "code",
   "execution_count": 9,
   "id": "65505e1d-7e84-4ebe-a476-f8201d15701b",
   "metadata": {},
   "outputs": [
    {
     "name": "stdout",
     "output_type": "stream",
     "text": [
      "Degree of Freedom =      10,  Quantile =   1.812461\n",
      "Degree of Freedom =      50,  Quantile =   1.675905\n",
      "Degree of Freedom =     100,  Quantile =   1.660234\n",
      "Degree of Freedom =    2000,  Quantile =   1.645616\n",
      "Degree of Freedom =  100000,  Quantile =   1.644869\n"
     ]
    }
   ],
   "source": [
    "alpha=0.95\n",
    "for df in [10,50,100,2000,100000]:\n",
    "    val = st.t.ppf(alpha,df)\n",
    "    print( 'Degree of Freedom = %7d,  Quantile = %10f' %(df,val))"
   ]
  },
  {
   "cell_type": "code",
   "execution_count": 11,
   "id": "0a83243b-dc26-4e2a-82a6-7cc63c384932",
   "metadata": {},
   "outputs": [
    {
     "name": "stdout",
     "output_type": "stream",
     "text": [
      "Degree of Freedom =      10,  Quantile =   2.228139\n",
      "Degree of Freedom =      50,  Quantile =   2.008559\n",
      "Degree of Freedom =     100,  Quantile =   1.983972\n",
      "Degree of Freedom =    2000,  Quantile =   1.961151\n",
      "Degree of Freedom =  100000,  Quantile =   1.959988\n"
     ]
    }
   ],
   "source": [
    "alpha=0.95\n",
    "alpha=0.975\n",
    "for df in [10,50,100,2000,100000]:\n",
    "    val = st.t.ppf(alpha,df)\n",
    "    print( 'Degree of Freedom = %7d,  Quantile = %10f' %(df,val))"
   ]
  },
  {
   "cell_type": "code",
   "execution_count": 13,
   "id": "78c69b0a-6650-4711-85c1-9800fa34a94f",
   "metadata": {},
   "outputs": [
    {
     "data": {
      "text/plain": [
       "0.8437643724222779"
      ]
     },
     "execution_count": 13,
     "metadata": {},
     "output_type": "execute_result"
    }
   ],
   "source": [
    "df = 5\n",
    "st.chi2.cdf(8, df)"
   ]
  },
  {
   "cell_type": "code",
   "execution_count": 15,
   "id": "59e4773f-04e3-43c9-997b-686650d026c5",
   "metadata": {},
   "outputs": [
    {
     "data": {
      "text/plain": [
       "8.000000010482703"
      ]
     },
     "execution_count": 15,
     "metadata": {},
     "output_type": "execute_result"
    }
   ],
   "source": [
    "df = 5\n",
    "alpha = 0.843764373\n",
    "st.chi2.ppf(alpha, df)"
   ]
  },
  {
   "cell_type": "code",
   "execution_count": null,
   "id": "5e4867f7-6eeb-4ca8-896f-9f6c59fbb2eb",
   "metadata": {},
   "outputs": [],
   "source": []
  }
 ],
 "metadata": {
  "kernelspec": {
   "display_name": "Python 3 (ipykernel)",
   "language": "python",
   "name": "python3"
  },
  "language_info": {
   "codemirror_mode": {
    "name": "ipython",
    "version": 3
   },
   "file_extension": ".py",
   "mimetype": "text/x-python",
   "name": "python",
   "nbconvert_exporter": "python",
   "pygments_lexer": "ipython3",
   "version": "3.12.4"
  }
 },
 "nbformat": 4,
 "nbformat_minor": 5
}
