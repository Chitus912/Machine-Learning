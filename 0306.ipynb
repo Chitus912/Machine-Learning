{
 "cells": [
  {
   "cell_type": "code",
   "execution_count": 1,
   "id": "f8bcc339-1290-46ce-9133-27c72c42bb9e",
   "metadata": {},
   "outputs": [],
   "source": [
    "import numpy as np\n",
    "import scipy.stats as st"
   ]
  },
  {
   "cell_type": "code",
   "execution_count": 3,
   "id": "1dcab52d-4d66-452b-be9f-d49e4f7bdb09",
   "metadata": {},
   "outputs": [
    {
     "data": {
      "text/plain": [
       "(0.45249302291006066, 0.6475069770899394)"
      ]
     },
     "execution_count": 3,
     "metadata": {},
     "output_type": "execute_result"
    }
   ],
   "source": [
    "n_yes = 55\n",
    "n_total = 100\n",
    "p_mean = n_yes/n_total\n",
    "SE = np.sqrt(p_mean*(1-p_mean)/n_total)\n",
    "st.norm.interval(0.95, loc = p_mean, scale=SE)"
   ]
  },
  {
   "cell_type": "code",
   "execution_count": 5,
   "id": "51c1e23b-9feb-44b6-b968-d2cfa28af927",
   "metadata": {},
   "outputs": [
    {
     "data": {
      "text/plain": [
       "(0.5191655864637935, 0.5808344135362066)"
      ]
     },
     "execution_count": 5,
     "metadata": {},
     "output_type": "execute_result"
    }
   ],
   "source": [
    "n_yes = 550\n",
    "n_total = 1000\n",
    "p_mean = n_yes/n_total\n",
    "SE = np.sqrt(p_mean*(1-p_mean)/n_total)\n",
    "st.norm.interval(0.95, loc = p_mean, scale=SE)"
   ]
  },
  {
   "cell_type": "code",
   "execution_count": null,
   "id": "a7fddd4d-01f3-4fd6-897f-7f74bca84946",
   "metadata": {},
   "outputs": [],
   "source": []
  }
 ],
 "metadata": {
  "kernelspec": {
   "display_name": "Python 3 (ipykernel)",
   "language": "python",
   "name": "python3"
  },
  "language_info": {
   "codemirror_mode": {
    "name": "ipython",
    "version": 3
   },
   "file_extension": ".py",
   "mimetype": "text/x-python",
   "name": "python",
   "nbconvert_exporter": "python",
   "pygments_lexer": "ipython3",
   "version": "3.12.4"
  }
 },
 "nbformat": 4,
 "nbformat_minor": 5
}
